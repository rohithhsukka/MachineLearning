{
 "cells": [
  {
   "cell_type": "code",
   "execution_count": null,
   "id": "415de6b3-040d-4665-a52d-8c7f0ec6c131",
   "metadata": {},
   "outputs": [],
   "source": []
  }
 ],
 "metadata": {
  "kernelspec": {
   "display_name": "",
   "name": ""
  },
  "language_info": {
   "name": ""
  }
 },
 "nbformat": 4,
 "nbformat_minor": 5
}
