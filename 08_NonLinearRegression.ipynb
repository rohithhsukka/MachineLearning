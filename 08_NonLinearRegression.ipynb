{
 "cells": [
  {
   "cell_type": "markdown",
   "id": "918cfb9a-e95c-476f-85e3-36124cf554ee",
   "metadata": {},
   "source": [
    "**Non-Linear Regression**\n",
    "  * yh = w0 + w1x1 + w2x2 +....+ wnxn => linear regression\n",
    "  * yh = w0 + w1x1 + w2x2 + w3x1x2 => non-linear\n",
    "  * w3x1x2 -> feature interaction"
   ]
  },
  {
   "cell_type": "code",
   "execution_count": 1,
   "id": "3c48c99f-4c99-4636-bb48-002c53745960",
   "metadata": {},
   "outputs": [
    {
     "data": {
      "text/html": [
       "<div>\n",
       "<style scoped>\n",
       "    .dataframe tbody tr th:only-of-type {\n",
       "        vertical-align: middle;\n",
       "    }\n",
       "\n",
       "    .dataframe tbody tr th {\n",
       "        vertical-align: top;\n",
       "    }\n",
       "\n",
       "    .dataframe thead th {\n",
       "        text-align: right;\n",
       "    }\n",
       "</style>\n",
       "<table border=\"1\" class=\"dataframe\">\n",
       "  <thead>\n",
       "    <tr style=\"text-align: right;\">\n",
       "      <th></th>\n",
       "      <th>TV</th>\n",
       "      <th>radio</th>\n",
       "      <th>newspaper</th>\n",
       "      <th>sales</th>\n",
       "    </tr>\n",
       "  </thead>\n",
       "  <tbody>\n",
       "    <tr>\n",
       "      <th>1</th>\n",
       "      <td>230.1</td>\n",
       "      <td>37.8</td>\n",
       "      <td>69.2</td>\n",
       "      <td>22.1</td>\n",
       "    </tr>\n",
       "    <tr>\n",
       "      <th>2</th>\n",
       "      <td>44.5</td>\n",
       "      <td>39.3</td>\n",
       "      <td>45.1</td>\n",
       "      <td>10.4</td>\n",
       "    </tr>\n",
       "    <tr>\n",
       "      <th>3</th>\n",
       "      <td>17.2</td>\n",
       "      <td>45.9</td>\n",
       "      <td>69.3</td>\n",
       "      <td>9.3</td>\n",
       "    </tr>\n",
       "    <tr>\n",
       "      <th>4</th>\n",
       "      <td>151.5</td>\n",
       "      <td>41.3</td>\n",
       "      <td>58.5</td>\n",
       "      <td>18.5</td>\n",
       "    </tr>\n",
       "    <tr>\n",
       "      <th>5</th>\n",
       "      <td>180.8</td>\n",
       "      <td>10.8</td>\n",
       "      <td>58.4</td>\n",
       "      <td>12.9</td>\n",
       "    </tr>\n",
       "  </tbody>\n",
       "</table>\n",
       "</div>"
      ],
      "text/plain": [
       "      TV  radio  newspaper  sales\n",
       "1  230.1   37.8       69.2   22.1\n",
       "2   44.5   39.3       45.1   10.4\n",
       "3   17.2   45.9       69.3    9.3\n",
       "4  151.5   41.3       58.5   18.5\n",
       "5  180.8   10.8       58.4   12.9"
      ]
     },
     "execution_count": 1,
     "metadata": {},
     "output_type": "execute_result"
    }
   ],
   "source": [
    "import pandas as pd \n",
    "\n",
    "df = pd.read_csv('https://raw.githubusercontent.com/bipulshahi/Dataset/main/Advertising.csv', index_col = 0)\n",
    "\n",
    "df.head()"
   ]
  },
  {
   "cell_type": "code",
   "execution_count": 2,
   "id": "fc5507a7-988d-4f3d-93c9-5795ca49a98e",
   "metadata": {},
   "outputs": [
    {
     "name": "stderr",
     "output_type": "stream",
     "text": [
      "C:\\Users\\rohit\\AppData\\Local\\Temp\\ipykernel_24304\\2652627097.py:2: SettingWithCopyWarning: \n",
      "A value is trying to be set on a copy of a slice from a DataFrame.\n",
      "Try using .loc[row_indexer,col_indexer] = value instead\n",
      "\n",
      "See the caveats in the documentation: https://pandas.pydata.org/pandas-docs/stable/user_guide/indexing.html#returning-a-view-versus-a-copy\n",
      "  X['TVR'] = X.TV * X.radio\n"
     ]
    }
   ],
   "source": [
    "X = df[['TV','radio']]\n",
    "X['TVR'] = X.TV * X.radio\n",
    "\n",
    "Y = df['sales']"
   ]
  },
  {
   "cell_type": "code",
   "execution_count": 3,
   "id": "a4c71b95-7fb8-4511-b1e5-c86f3b4aa90a",
   "metadata": {},
   "outputs": [
    {
     "data": {
      "text/html": [
       "<div>\n",
       "<style scoped>\n",
       "    .dataframe tbody tr th:only-of-type {\n",
       "        vertical-align: middle;\n",
       "    }\n",
       "\n",
       "    .dataframe tbody tr th {\n",
       "        vertical-align: top;\n",
       "    }\n",
       "\n",
       "    .dataframe thead th {\n",
       "        text-align: right;\n",
       "    }\n",
       "</style>\n",
       "<table border=\"1\" class=\"dataframe\">\n",
       "  <thead>\n",
       "    <tr style=\"text-align: right;\">\n",
       "      <th></th>\n",
       "      <th>TV</th>\n",
       "      <th>radio</th>\n",
       "      <th>TVR</th>\n",
       "    </tr>\n",
       "  </thead>\n",
       "  <tbody>\n",
       "    <tr>\n",
       "      <th>1</th>\n",
       "      <td>230.1</td>\n",
       "      <td>37.8</td>\n",
       "      <td>8697.78</td>\n",
       "    </tr>\n",
       "    <tr>\n",
       "      <th>2</th>\n",
       "      <td>44.5</td>\n",
       "      <td>39.3</td>\n",
       "      <td>1748.85</td>\n",
       "    </tr>\n",
       "    <tr>\n",
       "      <th>3</th>\n",
       "      <td>17.2</td>\n",
       "      <td>45.9</td>\n",
       "      <td>789.48</td>\n",
       "    </tr>\n",
       "    <tr>\n",
       "      <th>4</th>\n",
       "      <td>151.5</td>\n",
       "      <td>41.3</td>\n",
       "      <td>6256.95</td>\n",
       "    </tr>\n",
       "    <tr>\n",
       "      <th>5</th>\n",
       "      <td>180.8</td>\n",
       "      <td>10.8</td>\n",
       "      <td>1952.64</td>\n",
       "    </tr>\n",
       "  </tbody>\n",
       "</table>\n",
       "</div>"
      ],
      "text/plain": [
       "      TV  radio      TVR\n",
       "1  230.1   37.8  8697.78\n",
       "2   44.5   39.3  1748.85\n",
       "3   17.2   45.9   789.48\n",
       "4  151.5   41.3  6256.95\n",
       "5  180.8   10.8  1952.64"
      ]
     },
     "execution_count": 3,
     "metadata": {},
     "output_type": "execute_result"
    }
   ],
   "source": [
    "X.head()"
   ]
  },
  {
   "cell_type": "code",
   "execution_count": 6,
   "id": "f78192ab-a63c-401f-9ab0-cacc6999bb44",
   "metadata": {},
   "outputs": [
    {
     "name": "stdout",
     "output_type": "stream",
     "text": [
      "Trained coeffecients = [0.01852514 0.02517899 0.00110001] intercept = 6.861838720433315\n",
      "Train mean absolute error 0.6541893414230887\n",
      "Test mean absolute error 0.6699459803408618\n"
     ]
    }
   ],
   "source": [
    "\n",
    "\n",
    "#split into train & test \n",
    "from sklearn.model_selection import train_test_split\n",
    "xtrain,xtest,ytrain,ytest = train_test_split(X,Y,train_size=0.75)\n",
    "\n",
    "\n",
    "#import algorithm from scikit-learn and train the model \n",
    "from sklearn.linear_model import LinearRegression\n",
    "model1 = LinearRegression()\n",
    "\n",
    "model1.fit(xtrain,ytrain)\n",
    "\n",
    "print(\"Trained coeffecients =\",model1.coef_, \"intercept =\" , model1.intercept_)\n",
    "\n",
    "\n",
    "#Evaluate model performance\n",
    "ytrainPred = model1.predict(xtrain)\n",
    "ytestPred = model1.predict(xtest)\n",
    "\n",
    "print(\"Train mean absolute error\" , abs(ytrain - ytrainPred).mean())\n",
    "print(\"Test mean absolute error\" , abs(ytest - ytestPred).mean())"
   ]
  },
  {
   "cell_type": "markdown",
   "id": "b786cc76-ebfb-45cb-8503-b573e4e6c454",
   "metadata": {},
   "source": [
    "**Non-Linear Regression of degree 2**"
   ]
  },
  {
   "cell_type": "code",
   "execution_count": 7,
   "id": "f17e36d4-4ba7-4d62-a999-0738f7a0bc09",
   "metadata": {},
   "outputs": [
    {
     "data": {
      "text/plain": [
       "array([[2],\n",
       "       [4],\n",
       "       [4],\n",
       "       [6],\n",
       "       [8]])"
      ]
     },
     "execution_count": 7,
     "metadata": {},
     "output_type": "execute_result"
    }
   ],
   "source": [
    "import numpy as np\n",
    "\n",
    "n1 = np.random.randint(1,9,(5,1))\n",
    "n1"
   ]
  },
  {
   "cell_type": "code",
   "execution_count": 8,
   "id": "cbce4ab5-7433-4b96-bdb6-3b48bf2bd3ed",
   "metadata": {},
   "outputs": [
    {
     "data": {
      "text/plain": [
       "array([[ 2.,  4.],\n",
       "       [ 4., 16.],\n",
       "       [ 4., 16.],\n",
       "       [ 6., 36.],\n",
       "       [ 8., 64.]])"
      ]
     },
     "execution_count": 8,
     "metadata": {},
     "output_type": "execute_result"
    }
   ],
   "source": [
    "from sklearn.preprocessing import PolynomialFeatures\n",
    "pol1 = PolynomialFeatures(degree=2,include_bias=False)\n",
    "\n",
    "pol1.fit_transform(n1)"
   ]
  },
  {
   "cell_type": "code",
   "execution_count": 9,
   "id": "6bd1d724-21be-4ded-bde0-00fc75777ab3",
   "metadata": {},
   "outputs": [
    {
     "data": {
      "text/plain": [
       "array([[  2.,   4.,   8.],\n",
       "       [  4.,  16.,  64.],\n",
       "       [  4.,  16.,  64.],\n",
       "       [  6.,  36., 216.],\n",
       "       [  8.,  64., 512.]])"
      ]
     },
     "execution_count": 9,
     "metadata": {},
     "output_type": "execute_result"
    }
   ],
   "source": [
    "pol2 = PolynomialFeatures(degree=3,include_bias=False)\n",
    "\n",
    "pol2.fit_transform(n1)"
   ]
  },
  {
   "cell_type": "code",
   "execution_count": 10,
   "id": "4510ff05-0d7c-4272-b124-08a2736b9b47",
   "metadata": {},
   "outputs": [
    {
     "data": {
      "text/plain": [
       "array([[8, 5],\n",
       "       [2, 8],\n",
       "       [2, 6],\n",
       "       [1, 8],\n",
       "       [4, 1]])"
      ]
     },
     "execution_count": 10,
     "metadata": {},
     "output_type": "execute_result"
    }
   ],
   "source": [
    "n2 = np.random.randint(1,9,(5,2))\n",
    "n2"
   ]
  },
  {
   "cell_type": "code",
   "execution_count": 11,
   "id": "e469494f-e4cc-4cae-a933-9cbb273a9a39",
   "metadata": {},
   "outputs": [
    {
     "data": {
      "text/plain": [
       "array([[ 8.,  5., 64., 40., 25.],\n",
       "       [ 2.,  8.,  4., 16., 64.],\n",
       "       [ 2.,  6.,  4., 12., 36.],\n",
       "       [ 1.,  8.,  1.,  8., 64.],\n",
       "       [ 4.,  1., 16.,  4.,  1.]])"
      ]
     },
     "execution_count": 11,
     "metadata": {},
     "output_type": "execute_result"
    }
   ],
   "source": [
    "pol3 = PolynomialFeatures(degree=2,include_bias=False)\n",
    "\n",
    "pol3.fit_transform(n2)"
   ]
  },
  {
   "cell_type": "code",
   "execution_count": 12,
   "id": "15018dfc-db5b-4750-8c26-d8b1b281356e",
   "metadata": {},
   "outputs": [
    {
     "data": {
      "text/plain": [
       "array([[  8.,   5.,  64.,  40.,  25., 512., 320., 200., 125.],\n",
       "       [  2.,   8.,   4.,  16.,  64.,   8.,  32., 128., 512.],\n",
       "       [  2.,   6.,   4.,  12.,  36.,   8.,  24.,  72., 216.],\n",
       "       [  1.,   8.,   1.,   8.,  64.,   1.,   8.,  64., 512.],\n",
       "       [  4.,   1.,  16.,   4.,   1.,  64.,  16.,   4.,   1.]])"
      ]
     },
     "execution_count": 12,
     "metadata": {},
     "output_type": "execute_result"
    }
   ],
   "source": [
    "pol4 = PolynomialFeatures(degree=3,include_bias=False)\n",
    "\n",
    "pol4.fit_transform(n2)"
   ]
  },
  {
   "cell_type": "markdown",
   "id": "b906c4a7-ee53-4fab-a174-f4370af8eed0",
   "metadata": {},
   "source": [
    "# Non-Linear Regression on advertising "
   ]
  },
  {
   "cell_type": "code",
   "execution_count": 13,
   "id": "d70abfe2-0040-4a82-b17b-b845e2177c5e",
   "metadata": {},
   "outputs": [
    {
     "data": {
      "text/html": [
       "<div>\n",
       "<style scoped>\n",
       "    .dataframe tbody tr th:only-of-type {\n",
       "        vertical-align: middle;\n",
       "    }\n",
       "\n",
       "    .dataframe tbody tr th {\n",
       "        vertical-align: top;\n",
       "    }\n",
       "\n",
       "    .dataframe thead th {\n",
       "        text-align: right;\n",
       "    }\n",
       "</style>\n",
       "<table border=\"1\" class=\"dataframe\">\n",
       "  <thead>\n",
       "    <tr style=\"text-align: right;\">\n",
       "      <th></th>\n",
       "      <th>TV</th>\n",
       "      <th>radio</th>\n",
       "      <th>newspaper</th>\n",
       "      <th>sales</th>\n",
       "    </tr>\n",
       "  </thead>\n",
       "  <tbody>\n",
       "    <tr>\n",
       "      <th>1</th>\n",
       "      <td>230.1</td>\n",
       "      <td>37.8</td>\n",
       "      <td>69.2</td>\n",
       "      <td>22.1</td>\n",
       "    </tr>\n",
       "    <tr>\n",
       "      <th>2</th>\n",
       "      <td>44.5</td>\n",
       "      <td>39.3</td>\n",
       "      <td>45.1</td>\n",
       "      <td>10.4</td>\n",
       "    </tr>\n",
       "    <tr>\n",
       "      <th>3</th>\n",
       "      <td>17.2</td>\n",
       "      <td>45.9</td>\n",
       "      <td>69.3</td>\n",
       "      <td>9.3</td>\n",
       "    </tr>\n",
       "    <tr>\n",
       "      <th>4</th>\n",
       "      <td>151.5</td>\n",
       "      <td>41.3</td>\n",
       "      <td>58.5</td>\n",
       "      <td>18.5</td>\n",
       "    </tr>\n",
       "    <tr>\n",
       "      <th>5</th>\n",
       "      <td>180.8</td>\n",
       "      <td>10.8</td>\n",
       "      <td>58.4</td>\n",
       "      <td>12.9</td>\n",
       "    </tr>\n",
       "  </tbody>\n",
       "</table>\n",
       "</div>"
      ],
      "text/plain": [
       "      TV  radio  newspaper  sales\n",
       "1  230.1   37.8       69.2   22.1\n",
       "2   44.5   39.3       45.1   10.4\n",
       "3   17.2   45.9       69.3    9.3\n",
       "4  151.5   41.3       58.5   18.5\n",
       "5  180.8   10.8       58.4   12.9"
      ]
     },
     "execution_count": 13,
     "metadata": {},
     "output_type": "execute_result"
    }
   ],
   "source": [
    "df.head()"
   ]
  },
  {
   "cell_type": "code",
   "execution_count": 14,
   "id": "03b98251-ea85-4508-9571-4460ea2dabeb",
   "metadata": {},
   "outputs": [],
   "source": [
    "X = df[['TV','radio']]\n",
    "Y = df['sales']"
   ]
  },
  {
   "cell_type": "code",
   "execution_count": 15,
   "id": "2f1171f5-7d3a-489a-8494-ad660742bd3c",
   "metadata": {},
   "outputs": [],
   "source": [
    "from sklearn.model_selection import train_test_split\n",
    "xtrain,xtest,ytrain,ytest = train_test_split(X,Y,train_size=0.75)"
   ]
  },
  {
   "cell_type": "code",
   "execution_count": 16,
   "id": "bafa1caf-decd-4e2d-902d-e14e096be02c",
   "metadata": {},
   "outputs": [],
   "source": [
    "from sklearn.preprocessing import PolynomialFeatures\n",
    "pol = PolynomialFeatures(degree = 2, include_bias=False)\n",
    "\n",
    "pol.fit(xtrain)\n",
    "\n",
    "xtrainPol = pol.transform(xtrain)\n",
    "xtestPol = pol.transform(xtest)"
   ]
  },
  {
   "cell_type": "code",
   "execution_count": 17,
   "id": "cd98c2e0-3f21-4dd0-b9f3-5d38f0e66a3b",
   "metadata": {},
   "outputs": [
    {
     "name": "stdout",
     "output_type": "stream",
     "text": [
      "(150, 2)\n",
      "(150, 5)\n"
     ]
    }
   ],
   "source": [
    "print(xtrain.shape)\n",
    "print(xtrainPol.shape)"
   ]
  },
  {
   "cell_type": "code",
   "execution_count": 18,
   "id": "af24ae17-ef12-46f9-990c-2fc23401b84b",
   "metadata": {},
   "outputs": [
    {
     "name": "stdout",
     "output_type": "stream",
     "text": [
      "[ 4.76413878e-02  4.27323112e-02 -9.77353532e-05  1.04810876e-03\n",
      " -2.97069855e-05]\n"
     ]
    }
   ],
   "source": [
    "#Train the model using xtrainPol & ytrain\n",
    "\n",
    "from sklearn.linear_model import LinearRegression\n",
    "model2 = LinearRegression()\n",
    "model2.fit(xtrainPol,ytrain)\n",
    "\n",
    "print(model2.coef_)\n",
    "#Evaluate model performance\n",
    "\n",
    "ytrainPred = model2.predict(xtrainPol)\n",
    "ytestPred = model2.predict(xtestPol)"
   ]
  },
  {
   "cell_type": "code",
   "execution_count": 19,
   "id": "82ed6bb9-562d-46a1-82e2-e0b7228b3f1e",
   "metadata": {},
   "outputs": [
    {
     "name": "stdout",
     "output_type": "stream",
     "text": [
      "Train mean absolute error 0.3572030002983661\n",
      "Test mean absolute error 0.5261942007897548\n"
     ]
    }
   ],
   "source": [
    "#Evaluate performance\n",
    "print(\"Train mean absolute error\" , abs(ytrain - ytrainPred).mean())\n",
    "print(\"Test mean absolute error\" , abs(ytest - ytestPred).mean())"
   ]
  },
  {
   "cell_type": "code",
   "execution_count": null,
   "id": "1afcc71c-28f7-422f-bb5f-76f0a3a6b329",
   "metadata": {},
   "outputs": [],
   "source": []
  }
 ],
 "metadata": {
  "kernelspec": {
   "display_name": "Python 3 (ipykernel)",
   "language": "python",
   "name": "python3"
  },
  "language_info": {
   "codemirror_mode": {
    "name": "ipython",
    "version": 3
   },
   "file_extension": ".py",
   "mimetype": "text/x-python",
   "name": "python",
   "nbconvert_exporter": "python",
   "pygments_lexer": "ipython3",
   "version": "3.12.2"
  }
 },
 "nbformat": 4,
 "nbformat_minor": 5
}
