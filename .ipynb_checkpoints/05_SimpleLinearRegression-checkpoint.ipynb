{
 "cells": [
  {
   "cell_type": "markdown",
   "id": "4b927af8-859e-49d4-afad-26a98dda2e61",
   "metadata": {},
   "source": [
    "**Supervised Machine Learning - Simple Linear Regression**\n",
    "* Advertisement Data"
   ]
  },
  {
   "cell_type": "code",
   "execution_count": null,
   "id": "dfda9ca9-f3f5-4aa8-b59d-720444ebca4b",
   "metadata": {},
   "outputs": [],
   "source": []
  }
 ],
 "metadata": {
  "kernelspec": {
   "display_name": "Python 3 (ipykernel)",
   "language": "python",
   "name": "python3"
  },
  "language_info": {
   "codemirror_mode": {
    "name": "ipython",
    "version": 3
   },
   "file_extension": ".py",
   "mimetype": "text/x-python",
   "name": "python",
   "nbconvert_exporter": "python",
   "pygments_lexer": "ipython3",
   "version": "3.12.2"
  }
 },
 "nbformat": 4,
 "nbformat_minor": 5
}
